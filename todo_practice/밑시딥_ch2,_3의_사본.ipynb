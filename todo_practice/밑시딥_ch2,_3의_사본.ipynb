{
  "nbformat": 4,
  "nbformat_minor": 0,
  "metadata": {
    "colab": {
      "provenance": [],
      "mount_file_id": "1qMS516H-NjCaH1QFRNt_E8QNkSJ5n0vk",
      "authorship_tag": "ABX9TyOQFWs07xD+cxH7laNW2Kc4",
      "include_colab_link": true
    },
    "kernelspec": {
      "name": "python3",
      "display_name": "Python 3"
    },
    "language_info": {
      "name": "python"
    }
  },
  "cells": [
    {
      "cell_type": "markdown",
      "metadata": {
        "id": "view-in-github",
        "colab_type": "text"
      },
      "source": [
        "<a href=\"https://colab.research.google.com/github/wjjoo/Python_QUEST/blob/master/todo_practice/%EB%B0%91%EC%8B%9C%EB%94%A5_ch2%2C_3%EC%9D%98_%EC%82%AC%EB%B3%B8.ipynb\" target=\"_parent\"><img src=\"https://colab.research.google.com/assets/colab-badge.svg\" alt=\"Open In Colab\"/></a>"
      ]
    },
    {
      "cell_type": "code",
      "execution_count": null,
      "metadata": {
        "id": "y0T5QyxORe5D"
      },
      "outputs": [],
      "source": [
        "def And(x1,x2):\n",
        "  w1, w2, theta = 0.5, 0.5, 0.7\n",
        "  tmp = w1*x1 + w2*x2\n",
        "  if tmp > theta:\n",
        "    return 1\n",
        "  return 0"
      ]
    },
    {
      "cell_type": "code",
      "source": [
        "print(And(0, 0))\n",
        "print(And(1, 0))\n",
        "print(And(0, 1))\n",
        "print(And(1, 1))"
      ],
      "metadata": {
        "colab": {
          "base_uri": "https://localhost:8080/"
        },
        "id": "NpWZ31lISJsr",
        "outputId": "95fdc639-6483-47ff-f6fd-080ae252f4ef"
      },
      "execution_count": null,
      "outputs": [
        {
          "output_type": "stream",
          "name": "stdout",
          "text": [
            "0\n",
            "0\n",
            "0\n",
            "1\n"
          ]
        }
      ]
    },
    {
      "cell_type": "code",
      "source": [
        "import numpy as np\n",
        "x = np.array([0, 1])\n",
        "w = np.array([0.5, 0.5])\n",
        "b = np.array([-0.7])\n",
        "w*x\n",
        "np.sum(w*x)"
      ],
      "metadata": {
        "colab": {
          "base_uri": "https://localhost:8080/"
        },
        "id": "MaJNMFg0SYCa",
        "outputId": "91e93a6f-2115-41a4-cade-7dbbbc7cb264"
      },
      "execution_count": null,
      "outputs": [
        {
          "output_type": "execute_result",
          "data": {
            "text/plain": [
              "0.5"
            ]
          },
          "metadata": {},
          "execution_count": 5
        }
      ]
    },
    {
      "cell_type": "code",
      "source": [
        "np.sum(w*x)+b"
      ],
      "metadata": {
        "colab": {
          "base_uri": "https://localhost:8080/"
        },
        "id": "60tcLAGeX4Fi",
        "outputId": "1e813336-a53c-4489-d7d1-9c1b95e66560"
      },
      "execution_count": null,
      "outputs": [
        {
          "output_type": "execute_result",
          "data": {
            "text/plain": [
              "array([-0.2])"
            ]
          },
          "metadata": {},
          "execution_count": 7
        }
      ]
    },
    {
      "cell_type": "code",
      "source": [
        "def AND(x1, x2):\n",
        "  x = np.array([x1, x2])\n",
        "  w = np.array([0.5, 0.5])\n",
        "  b = -0.7\n",
        "  tmp = np.sum(x*w) + b\n",
        "  if tmp <= 0:\n",
        "    return 0\n",
        "  else:\n",
        "    return 1"
      ],
      "metadata": {
        "id": "gFi0haAmYHRg"
      },
      "execution_count": null,
      "outputs": []
    },
    {
      "cell_type": "code",
      "source": [
        "AND(1, 0)"
      ],
      "metadata": {
        "colab": {
          "base_uri": "https://localhost:8080/"
        },
        "id": "N4XHk9nNa2SQ",
        "outputId": "cfd45f22-75e1-471d-87fa-c40e505330a4"
      },
      "execution_count": null,
      "outputs": [
        {
          "output_type": "execute_result",
          "data": {
            "text/plain": [
              "0"
            ]
          },
          "metadata": {},
          "execution_count": 11
        }
      ]
    },
    {
      "cell_type": "code",
      "source": [
        "def NAND(x1, x2):\n",
        "  x = np.array([x1, x2])\n",
        "  w = np.array([-0.5, -0.5])\n",
        "  b = 0.7\n",
        "  tmp = np.sum(x*w) + b\n",
        "  if tmp <= 0:\n",
        "    return 0\n",
        "  else:\n",
        "    return 1"
      ],
      "metadata": {
        "id": "eizn_GKoa4eJ"
      },
      "execution_count": null,
      "outputs": []
    },
    {
      "cell_type": "code",
      "source": [
        "NAND(1, 1)"
      ],
      "metadata": {
        "colab": {
          "base_uri": "https://localhost:8080/"
        },
        "id": "7tVEjNuDdAFx",
        "outputId": "5941e2df-f729-4f37-d712-9bb1ce1c2dfa"
      },
      "execution_count": null,
      "outputs": [
        {
          "output_type": "execute_result",
          "data": {
            "text/plain": [
              "0"
            ]
          },
          "metadata": {},
          "execution_count": 16
        }
      ]
    },
    {
      "cell_type": "code",
      "source": [
        "NAND(0, 0)"
      ],
      "metadata": {
        "colab": {
          "base_uri": "https://localhost:8080/"
        },
        "id": "q6ot5LV2dBv_",
        "outputId": "8e351786-ba1d-4240-9a57-8f01abe6a756"
      },
      "execution_count": null,
      "outputs": [
        {
          "output_type": "execute_result",
          "data": {
            "text/plain": [
              "1"
            ]
          },
          "metadata": {},
          "execution_count": 17
        }
      ]
    },
    {
      "cell_type": "code",
      "source": [
        "def OR(x1, x2):\n",
        "  x = np.array([x1, x2])\n",
        "  w = np.array([0.5, 0.5])\n",
        "  b = -0.2\n",
        "  tmp = np.sum(x*w) + b\n",
        "  if tmp <= 0:\n",
        "    return 0\n",
        "  else:\n",
        "    return 1"
      ],
      "metadata": {
        "id": "HqniAf1QdDmX"
      },
      "execution_count": null,
      "outputs": []
    },
    {
      "cell_type": "code",
      "source": [
        "OR(0, 0)"
      ],
      "metadata": {
        "colab": {
          "base_uri": "https://localhost:8080/"
        },
        "id": "gKqQ42l3ez86",
        "outputId": "90b7ac7b-5f00-4d5d-ad31-fa3f7d1bb70d"
      },
      "execution_count": null,
      "outputs": [
        {
          "output_type": "execute_result",
          "data": {
            "text/plain": [
              "0"
            ]
          },
          "metadata": {},
          "execution_count": 20
        }
      ]
    },
    {
      "cell_type": "code",
      "source": [
        "OR(0, 1)"
      ],
      "metadata": {
        "colab": {
          "base_uri": "https://localhost:8080/"
        },
        "id": "AWNOmQJye7qx",
        "outputId": "0efa5895-21d5-45a8-b81c-ffc1d165f007"
      },
      "execution_count": null,
      "outputs": [
        {
          "output_type": "execute_result",
          "data": {
            "text/plain": [
              "1"
            ]
          },
          "metadata": {},
          "execution_count": 21
        }
      ]
    },
    {
      "cell_type": "code",
      "source": [
        "OR(1, 1)"
      ],
      "metadata": {
        "colab": {
          "base_uri": "https://localhost:8080/"
        },
        "id": "cGlBIRIVe84W",
        "outputId": "4c0e55ff-b57d-4664-8a3e-90b29d1d9b65"
      },
      "execution_count": null,
      "outputs": [
        {
          "output_type": "execute_result",
          "data": {
            "text/plain": [
              "1"
            ]
          },
          "metadata": {},
          "execution_count": 22
        }
      ]
    },
    {
      "cell_type": "code",
      "source": [
        "OR(1, 0)"
      ],
      "metadata": {
        "colab": {
          "base_uri": "https://localhost:8080/"
        },
        "id": "lrcohpnse95x",
        "outputId": "e085e4ac-5880-47e1-a50b-ffe9e2fbb4e1"
      },
      "execution_count": null,
      "outputs": [
        {
          "output_type": "execute_result",
          "data": {
            "text/plain": [
              "1"
            ]
          },
          "metadata": {},
          "execution_count": 23
        }
      ]
    },
    {
      "cell_type": "code",
      "source": [
        "def XOR(x1, x2):\n",
        "  s1 = NAND(x1, x2)\n",
        "  s2 = OR(x1, x2)\n",
        "  y = AND(s1, s2)\n",
        "  return y"
      ],
      "metadata": {
        "id": "JoJ2aGA1e_Uq"
      },
      "execution_count": null,
      "outputs": []
    },
    {
      "cell_type": "code",
      "source": [
        "XOR(0, 1)"
      ],
      "metadata": {
        "colab": {
          "base_uri": "https://localhost:8080/"
        },
        "id": "IUCVyJVVjld4",
        "outputId": "cf29593d-4d57-42e8-82d0-ce7dd3252c3c"
      },
      "execution_count": null,
      "outputs": [
        {
          "output_type": "execute_result",
          "data": {
            "text/plain": [
              "1"
            ]
          },
          "metadata": {},
          "execution_count": 25
        }
      ]
    },
    {
      "cell_type": "code",
      "source": [
        "XOR(1, 0)"
      ],
      "metadata": {
        "colab": {
          "base_uri": "https://localhost:8080/"
        },
        "id": "5X5Xi2S-jp6T",
        "outputId": "bf64fd2f-c2dd-4bfc-e7e9-cd009ba0892e"
      },
      "execution_count": null,
      "outputs": [
        {
          "output_type": "execute_result",
          "data": {
            "text/plain": [
              "1"
            ]
          },
          "metadata": {},
          "execution_count": 26
        }
      ]
    },
    {
      "cell_type": "code",
      "source": [
        "XOR(0, 0)"
      ],
      "metadata": {
        "colab": {
          "base_uri": "https://localhost:8080/"
        },
        "id": "go8cdh7cjrS7",
        "outputId": "998a4626-4e8b-484e-9302-85de58b55dc2"
      },
      "execution_count": null,
      "outputs": [
        {
          "output_type": "execute_result",
          "data": {
            "text/plain": [
              "0"
            ]
          },
          "metadata": {},
          "execution_count": 27
        }
      ]
    },
    {
      "cell_type": "code",
      "source": [
        "XOR(1, 1)"
      ],
      "metadata": {
        "colab": {
          "base_uri": "https://localhost:8080/"
        },
        "id": "w0C4wYbTjspR",
        "outputId": "e1401d3b-b003-4132-dfd5-55e4d891b960"
      },
      "execution_count": null,
      "outputs": [
        {
          "output_type": "execute_result",
          "data": {
            "text/plain": [
              "0"
            ]
          },
          "metadata": {},
          "execution_count": 28
        }
      ]
    },
    {
      "cell_type": "code",
      "source": [
        "y = np.array([1.0])\n",
        "y.astype(np.int64)"
      ],
      "metadata": {
        "colab": {
          "base_uri": "https://localhost:8080/"
        },
        "id": "RAnOs4wnjtcf",
        "outputId": "624d708b-8df9-4f60-9c2b-5ca3b3c155d2"
      },
      "execution_count": null,
      "outputs": [
        {
          "output_type": "execute_result",
          "data": {
            "text/plain": [
              "array([1])"
            ]
          },
          "metadata": {},
          "execution_count": 33
        }
      ]
    },
    {
      "cell_type": "code",
      "source": [
        "x = np.array([-5.0, 5.0, 0.1])\n",
        "def step_f(x):\n",
        "  y = x > 0\n",
        "  return y.astype(np.int64)\n",
        "\n",
        "step_f(x)"
      ],
      "metadata": {
        "colab": {
          "base_uri": "https://localhost:8080/"
        },
        "id": "SrZ5kdrQoKq2",
        "outputId": "6d3da7dc-3bc3-49a5-f103-df2d336739d2"
      },
      "execution_count": null,
      "outputs": [
        {
          "output_type": "execute_result",
          "data": {
            "text/plain": [
              "array([0, 1, 1])"
            ]
          },
          "metadata": {},
          "execution_count": 38
        }
      ]
    },
    {
      "cell_type": "code",
      "source": [
        "print(np.arange(-5.0, 5.0, 0.2))"
      ],
      "metadata": {
        "colab": {
          "base_uri": "https://localhost:8080/"
        },
        "id": "HAsc8og7sLNM",
        "outputId": "2e362911-7797-4fb4-bcf6-a99c5706e9ff"
      },
      "execution_count": null,
      "outputs": [
        {
          "output_type": "stream",
          "name": "stdout",
          "text": [
            "[-5.0000000e+00 -4.8000000e+00 -4.6000000e+00 -4.4000000e+00\n",
            " -4.2000000e+00 -4.0000000e+00 -3.8000000e+00 -3.6000000e+00\n",
            " -3.4000000e+00 -3.2000000e+00 -3.0000000e+00 -2.8000000e+00\n",
            " -2.6000000e+00 -2.4000000e+00 -2.2000000e+00 -2.0000000e+00\n",
            " -1.8000000e+00 -1.6000000e+00 -1.4000000e+00 -1.2000000e+00\n",
            " -1.0000000e+00 -8.0000000e-01 -6.0000000e-01 -4.0000000e-01\n",
            " -2.0000000e-01  4.4408921e-15  2.0000000e-01  4.0000000e-01\n",
            "  6.0000000e-01  8.0000000e-01  1.0000000e+00  1.2000000e+00\n",
            "  1.4000000e+00  1.6000000e+00  1.8000000e+00  2.0000000e+00\n",
            "  2.2000000e+00  2.4000000e+00  2.6000000e+00  2.8000000e+00\n",
            "  3.0000000e+00  3.2000000e+00  3.4000000e+00  3.6000000e+00\n",
            "  3.8000000e+00  4.0000000e+00  4.2000000e+00  4.4000000e+00\n",
            "  4.6000000e+00  4.8000000e+00]\n"
          ]
        }
      ]
    },
    {
      "cell_type": "code",
      "source": [
        "def step_function(x):\n",
        "  return np.array(x>0, dtype = np.int64)"
      ],
      "metadata": {
        "id": "tyrP5IWRsnyX"
      },
      "execution_count": null,
      "outputs": []
    },
    {
      "cell_type": "code",
      "source": [
        "step_function(x)"
      ],
      "metadata": {
        "colab": {
          "base_uri": "https://localhost:8080/"
        },
        "id": "PxD0xrvftDyO",
        "outputId": "eb7bb47d-c1e4-4155-b632-79a624651db7"
      },
      "execution_count": null,
      "outputs": [
        {
          "output_type": "execute_result",
          "data": {
            "text/plain": [
              "array([0, 1, 1])"
            ]
          },
          "metadata": {},
          "execution_count": 41
        }
      ]
    },
    {
      "cell_type": "markdown",
      "source": [
        "### 신경망 구현"
      ],
      "metadata": {
        "id": "UIfkfXwlZPH2"
      }
    },
    {
      "cell_type": "code",
      "source": [
        "import numpy as np"
      ],
      "metadata": {
        "id": "0nXwNxXrN6pc"
      },
      "execution_count": null,
      "outputs": []
    },
    {
      "cell_type": "code",
      "source": [
        "import numpy as np\n",
        "a = np.array([[0.1, 0.3, 0.5], [0.2, 0.4, 0.6]])\n",
        "x = np.array([1.0, 0.5])\n",
        "b = np.array([0.1, 0.2, 0.3])\n",
        "print(np.dot(x, a))\n",
        "\n",
        "print(np.dot(x, a) + b)"
      ],
      "metadata": {
        "colab": {
          "base_uri": "https://localhost:8080/"
        },
        "id": "hIooF09X7M_l",
        "outputId": "3f8204a6-eb16-43b9-edd7-9bef6083030c"
      },
      "execution_count": null,
      "outputs": [
        {
          "output_type": "stream",
          "name": "stdout",
          "text": [
            "[0.2 0.5 0.8]\n",
            "[0.3 0.7 1.1]\n"
          ]
        }
      ]
    },
    {
      "cell_type": "code",
      "source": [
        "def init_network():\n",
        "  network = {}\n",
        "  network['W1'] = np.array([[0.1, 0.3, 0.5], [0.2, 0.4, 0.6]])\n",
        "  network['W2'] = np.array([[0.1, 0.4], [0.2, 0.5], [0.3, 0.6]])\n",
        "  network['W3'] = np.array([[0.1, 0.3], [0.2, 0.4]])\n",
        "  network['B1'] = np.array([0.1, 0.2, 0.3])\n",
        "  network['B2'] = np.array([0.1, 0.2])\n",
        "  network['B3'] = np.array([0.1, 0.2])\n",
        "  return network\n",
        "\n",
        "def forward(network, x):\n",
        "  print(network['W1'])\n",
        "  w1, w2, w3 = network['W1'], network['W2'], network['W3']\n",
        "  b1, b2, b3 = network['B1'], network['B2'], network['B3']\n",
        "\n",
        "  a1 = np.dot(x, w1) + b1\n",
        "  z1 = sigmoid(a1)\n",
        "  a2 = np.dot(z1, w2) + b2\n",
        "  z2 = sigmoid(a2)\n",
        "  a3 = np.dot(z2, w3) + b3\n",
        "  y = softmax(a3)\n",
        "  return y\n",
        "\n",
        "def sigmoid(x):\n",
        "  return 1/(1+np.exp(-x))\n",
        "\n",
        "def identity_function(x):\n",
        "  return x\n",
        "\n",
        "def softmax(x):\n",
        "  c = np.max(x)\n",
        "  exp = np.exp(x - c)\n",
        "  sum_exp = np.sum(exp)\n",
        "  return exp / sum_exp\n",
        "\n",
        "network = init_network()\n",
        "x = np.array([1.0, 0.5])\n",
        "y = forward(network, x)\n",
        "print(y)"
      ],
      "metadata": {
        "id": "UGpTYDkjtKCd",
        "colab": {
          "base_uri": "https://localhost:8080/"
        },
        "outputId": "05b93322-f5bf-4dfe-ea33-f3827f8e7b44"
      },
      "execution_count": null,
      "outputs": [
        {
          "output_type": "stream",
          "name": "stdout",
          "text": [
            "[[0.1 0.3 0.5]\n",
            " [0.2 0.4 0.6]]\n",
            "[0.40625907 0.59374093]\n"
          ]
        }
      ]
    },
    {
      "cell_type": "code",
      "source": [
        "a = np.array([0.3, 2.9, 4.0])"
      ],
      "metadata": {
        "id": "gJwoiNn9NwiA"
      },
      "execution_count": null,
      "outputs": []
    },
    {
      "cell_type": "code",
      "source": [
        "exp_a = np.exp(a)\n",
        "print(exp_a)"
      ],
      "metadata": {
        "colab": {
          "base_uri": "https://localhost:8080/"
        },
        "id": "kle46ljhZfMQ",
        "outputId": "cdd7dd61-5cd7-49c3-e8b4-ee6ab8bf113b"
      },
      "execution_count": null,
      "outputs": [
        {
          "output_type": "stream",
          "name": "stdout",
          "text": [
            "[ 1.34985881 18.17414537 54.59815003]\n"
          ]
        }
      ]
    },
    {
      "cell_type": "code",
      "source": [
        "sum_a = np.sum(exp_a)\n",
        "print(sum_a)"
      ],
      "metadata": {
        "colab": {
          "base_uri": "https://localhost:8080/"
        },
        "id": "hTnw0ppFZisw",
        "outputId": "8be65fbd-d045-442b-b3f9-3c10e980f549"
      },
      "execution_count": null,
      "outputs": [
        {
          "output_type": "stream",
          "name": "stdout",
          "text": [
            "74.1221542101633\n"
          ]
        }
      ]
    },
    {
      "cell_type": "code",
      "source": [
        "exp_a / sum_a"
      ],
      "metadata": {
        "colab": {
          "base_uri": "https://localhost:8080/"
        },
        "id": "nJNZJu7ibVZY",
        "outputId": "f891d131-c9f2-4450-e3bb-a4ba85a2c241"
      },
      "execution_count": null,
      "outputs": [
        {
          "output_type": "execute_result",
          "data": {
            "text/plain": [
              "array([0.01821127, 0.24519181, 0.73659691])"
            ]
          },
          "metadata": {},
          "execution_count": 18
        }
      ]
    },
    {
      "cell_type": "markdown",
      "source": [
        "### 깃헙 클론 & 데이터 로드"
      ],
      "metadata": {
        "id": "oeM-1JTMoz5v"
      }
    },
    {
      "cell_type": "code",
      "source": [
        "ls"
      ],
      "metadata": {
        "colab": {
          "base_uri": "https://localhost:8080/"
        },
        "id": "CCiHbqinr5bG",
        "outputId": "d57c7c05-8958-4f5b-c510-a9c168cd30e8"
      },
      "execution_count": null,
      "outputs": [
        {
          "output_type": "stream",
          "name": "stdout",
          "text": [
            "\u001b[0m\u001b[01;34mdrive\u001b[0m/  \u001b[01;34msample_data\u001b[0m/\n"
          ]
        }
      ]
    },
    {
      "cell_type": "code",
      "source": [
        "cd \"drive/MyDrive/Colab Notebooks/밑시딥1/\""
      ],
      "metadata": {
        "colab": {
          "base_uri": "https://localhost:8080/"
        },
        "id": "uPI0sje0mUQP",
        "outputId": "5b637b67-050b-42c9-a70d-af392961036f"
      },
      "execution_count": null,
      "outputs": [
        {
          "output_type": "stream",
          "name": "stdout",
          "text": [
            "/content/drive/MyDrive/Colab Notebooks/밑시딥1\n"
          ]
        }
      ]
    },
    {
      "cell_type": "code",
      "source": [
        "ls"
      ],
      "metadata": {
        "colab": {
          "base_uri": "https://localhost:8080/"
        },
        "id": "w9sozsxCm6ye",
        "outputId": "031cc102-8345-4f39-dc49-3dc8b429090c"
      },
      "execution_count": null,
      "outputs": [
        {
          "output_type": "stream",
          "name": "stdout",
          "text": [
            "밑시딥_ch2\n"
          ]
        }
      ]
    },
    {
      "cell_type": "code",
      "source": [
        "!git clone https://github.com/youbeebee/deeplearning_from_scratch.git"
      ],
      "metadata": {
        "colab": {
          "base_uri": "https://localhost:8080/"
        },
        "id": "_pMiqK3fm8Up",
        "outputId": "49b49c0c-052a-460c-c4aa-94fb9d7ac8bf"
      },
      "execution_count": null,
      "outputs": [
        {
          "output_type": "stream",
          "name": "stdout",
          "text": [
            "Cloning into 'deeplearning_from_scratch'...\n",
            "remote: Enumerating objects: 405, done.\u001b[K\n",
            "remote: Total 405 (delta 0), reused 0 (delta 0), pack-reused 405\u001b[K\n",
            "Receiving objects: 100% (405/405), 58.06 MiB | 13.62 MiB/s, done.\n",
            "Resolving deltas: 100% (74/74), done.\n",
            "Checking out files: 100% (304/304), done.\n"
          ]
        }
      ]
    },
    {
      "cell_type": "code",
      "source": [
        "ls"
      ],
      "metadata": {
        "colab": {
          "base_uri": "https://localhost:8080/"
        },
        "id": "OqKKfxsonBIS",
        "outputId": "db75b70d-aa77-42c8-a990-f41ac9cffae9"
      },
      "execution_count": null,
      "outputs": [
        {
          "output_type": "stream",
          "name": "stdout",
          "text": [
            "밑시딥_ch2  \u001b[0m\u001b[01;34mdeeplearning_from_scratch\u001b[0m/\n"
          ]
        }
      ]
    },
    {
      "cell_type": "code",
      "source": [
        "cd \"deeplearning_from_scratch\""
      ],
      "metadata": {
        "colab": {
          "base_uri": "https://localhost:8080/"
        },
        "id": "TGWHNF5dnlJM",
        "outputId": "88d2c5e9-c320-41f3-aac9-5d34704a779d"
      },
      "execution_count": null,
      "outputs": [
        {
          "output_type": "stream",
          "name": "stdout",
          "text": [
            "/content/drive/MyDrive/Colab Notebooks/밑시딥1/deeplearning_from_scratch\n"
          ]
        }
      ]
    },
    {
      "cell_type": "code",
      "source": [
        "ls"
      ],
      "metadata": {
        "colab": {
          "base_uri": "https://localhost:8080/"
        },
        "id": "5ABlie8Fnp_k",
        "outputId": "d09994c7-c762-4512-da6d-ace2f0865130"
      },
      "execution_count": null,
      "outputs": [
        {
          "output_type": "stream",
          "name": "stdout",
          "text": [
            "\u001b[0m\u001b[01;34m'ch1.헬로 파이썬'\u001b[0m/  \u001b[01;34m'ch4.신경망 학습'\u001b[0m/        \u001b[01;34mch7.CNN\u001b[0m/      \u001b[01;34mdataset\u001b[0m/   README\n",
            " \u001b[01;34mch2.퍼셉트론\u001b[0m/       \u001b[01;34mch5.오차역전파법\u001b[0m/        \u001b[01;34mch8.딥러닝\u001b[0m/   \u001b[01;34mimages\u001b[0m/\n",
            " \u001b[01;34mch3.신경망\u001b[0m/        \u001b[01;34m'ch6.학습 관련 기술들'\u001b[0m\u001b[K/   \u001b[01;34mcommon\u001b[0m/       LICENSE\n"
          ]
        }
      ]
    },
    {
      "cell_type": "code",
      "source": [
        "cd \"ch3.신경망\""
      ],
      "metadata": {
        "colab": {
          "base_uri": "https://localhost:8080/"
        },
        "id": "XpExxj_Pnqjt",
        "outputId": "6452cf56-f3c3-4020-ddbd-115876c17f9c"
      },
      "execution_count": null,
      "outputs": [
        {
          "output_type": "stream",
          "name": "stdout",
          "text": [
            "/content/drive/MyDrive/Colab Notebooks/밑시딥1/deeplearning_from_scratch/ch3.신경망\n"
          ]
        }
      ]
    },
    {
      "cell_type": "code",
      "source": [
        "ls"
      ],
      "metadata": {
        "colab": {
          "base_uri": "https://localhost:8080/"
        },
        "id": "jok9XZognvoZ",
        "outputId": "5d350641-a056-414c-99fa-c00cf5f443b0"
      },
      "execution_count": null,
      "outputs": [
        {
          "output_type": "stream",
          "name": "stdout",
          "text": [
            " 3.2.활성화함수.py            '3.5.출력층 설계하기.py'    sample_weight.pkl\n",
            "'3.3.다차원 배열의 계산.py'   '3.6.손글씨 숫자 인식.py'\n",
            "'3.4.3층 신경망 구현하기.py'   mnist_show.py\n"
          ]
        }
      ]
    },
    {
      "cell_type": "code",
      "source": [
        "from dataset.mnist import load_mnist\n",
        "from matplotlib import pyplot as plt\n",
        "import sys, os\n",
        "sys.path.append(os.pardir)\n",
        "import pickle\n",
        "\n",
        "(x_train, t_train), (x_test, t_test) = \\\n",
        "load_mnist(flatten=True, normalize=False)"
      ],
      "metadata": {
        "id": "4YM1jldhnwcv"
      },
      "execution_count": null,
      "outputs": []
    },
    {
      "cell_type": "code",
      "source": [
        "print(x_train.shape)\n",
        "print(t_train.shape)\n",
        "print(x_test.shape)\n",
        "print(t_test.shape)"
      ],
      "metadata": {
        "colab": {
          "base_uri": "https://localhost:8080/"
        },
        "id": "lgW9ECv4oB4-",
        "outputId": "ddb034e5-1906-49c9-b05e-37babe773ecc"
      },
      "execution_count": null,
      "outputs": [
        {
          "output_type": "stream",
          "name": "stdout",
          "text": [
            "(60000, 784)\n",
            "(60000,)\n",
            "(10000, 784)\n",
            "(10000,)\n"
          ]
        }
      ]
    },
    {
      "cell_type": "code",
      "source": [
        "from PIL import Image\n",
        "def img_show(img):\n",
        "  pil_img = Image.fromarray(np.uint8(img))\n",
        "  plt.imshow(img)"
      ],
      "metadata": {
        "id": "fVmCgVJ_oaDi"
      },
      "execution_count": null,
      "outputs": []
    },
    {
      "cell_type": "code",
      "source": [
        "img = x_train[0]\n",
        "label = t_train[0]\n",
        "print(label)"
      ],
      "metadata": {
        "colab": {
          "base_uri": "https://localhost:8080/"
        },
        "id": "gbFJcp5-pxvQ",
        "outputId": "961ab2a5-203c-435b-c688-914daa7cacc4"
      },
      "execution_count": null,
      "outputs": [
        {
          "output_type": "stream",
          "name": "stdout",
          "text": [
            "5\n"
          ]
        }
      ]
    },
    {
      "cell_type": "code",
      "source": [
        "print(img.shape)\n",
        "img = img.reshape(28, 28)\n",
        "print(img.shape)\n",
        "\n",
        "img_show(img)"
      ],
      "metadata": {
        "colab": {
          "base_uri": "https://localhost:8080/",
          "height": 302
        },
        "id": "XfANGfdEqC72",
        "outputId": "4d2f79e6-5b6b-46e3-c5e9-bc74ed49627e"
      },
      "execution_count": null,
      "outputs": [
        {
          "output_type": "stream",
          "name": "stdout",
          "text": [
            "(784,)\n",
            "(28, 28)\n"
          ]
        },
        {
          "output_type": "display_data",
          "data": {
            "text/plain": [
              "<Figure size 432x288 with 1 Axes>"
            ],
            "image/png": "[encoded data removed]"
          },
          "metadata": {
            "needs_background": "light"
          }
        }
      ]
    },
    {
      "cell_type": "code",
      "source": [
        "def get_data():\n",
        "  (x_train, t_train), (x_test, t_test) = \\\n",
        "  load_mnist(normalize = True, flatten = True, one_hot_label = False)\n",
        "  return x_test, t_test\n",
        "\n",
        "def init_network():\n",
        "  with open(\"sample_weight.pkl\", 'rb') as f:\n",
        "    network = pickle.load(f)\n",
        "  return network\n",
        "\n",
        "def predict(network, x):\n",
        "  W1, W2, W3 = network[\"W1\"], network[\"W2\"], network[\"W3\"]\n",
        "  b1, b2, b3 = network[\"b1\"], network[\"b2\"], network[\"b3\"]\n",
        "\n",
        "  a1 = np.dot(x, W1) + b1\n",
        "  z1 = sigmoid(a1)\n",
        "  a2 = np.dot(z1, W2) + b2\n",
        "  z2 = sigmoid(a2)\n",
        "  a3 = np.dot(z2, W3) + b3\n",
        "  y = softmax(a3)\n",
        "  return y"
      ],
      "metadata": {
        "id": "qXJcCI8vqKf8"
      },
      "execution_count": null,
      "outputs": []
    },
    {
      "cell_type": "code",
      "source": [
        "x, t = get_data()\n",
        "network = init_network()\n",
        "\n",
        "accuracy_cnt = 0\n",
        "for i in range(len(x)):\n",
        "  y = predict(network, x[i])\n",
        "  p = np.argmax(y)\n",
        "  if p == t[i]:\n",
        "    accuracy_cnt+=1\n",
        "\n",
        "print(\"Accuracy:\"+ str(float(accuracy_cnt) / len(x)))"
      ],
      "metadata": {
        "colab": {
          "base_uri": "https://localhost:8080/"
        },
        "id": "UxyspghvwXqb",
        "outputId": "f5ff8833-928f-4667-de94-3fd02515eb8d"
      },
      "execution_count": null,
      "outputs": [
        {
          "output_type": "stream",
          "name": "stdout",
          "text": [
            "Accuracy:0.9352\n"
          ]
        }
      ]
    },
    {
      "cell_type": "code",
      "source": [
        "x, t = get_data()\n",
        "network = init_network()\n",
        "\n",
        "batch_size = 100\n",
        "accuracy_cnt = 0\n",
        "\n",
        "for i in range(0, len(x), batch_size):\n",
        "  x_batch = x[i:i+batch_size]\n",
        "  y_batch = predict(network, x_batch)\n",
        "  p = np.argmax(y_batch, axis = 1)\n",
        "  accuracy_cnt+=np.sum(p == t[i:i+batch_size])\n",
        "\n",
        "print(\"Accuracy:\"+ str(float(accuracy_cnt) / len(x)))"
      ],
      "metadata": {
        "colab": {
          "base_uri": "https://localhost:8080/"
        },
        "id": "trvfyPuFzF9I",
        "outputId": "8add528c-1e4a-48df-cb29-75bd1f665701"
      },
      "execution_count": null,
      "outputs": [
        {
          "output_type": "stream",
          "name": "stdout",
          "text": [
            "Accuracy:0.9352\n"
          ]
        }
      ]
    },
    {
      "cell_type": "code",
      "source": [],
      "metadata": {
        "id": "dYJ1IsuE8PSd"
      },
      "execution_count": null,
      "outputs": []
    }
  ]
}